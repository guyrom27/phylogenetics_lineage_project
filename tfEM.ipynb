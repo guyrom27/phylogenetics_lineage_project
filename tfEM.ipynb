{
 "cells": [
  {
   "cell_type": "code",
   "execution_count": 1,
   "metadata": {},
   "outputs": [
    {
     "name": "stderr",
     "output_type": "stream",
     "text": [
      "/home/dcsoft/miniconda3/envs/clpy36/lib/python3.6/site-packages/tensorflow/python/framework/dtypes.py:516: FutureWarning: Passing (type, 1) or '1type' as a synonym of type is deprecated; in a future version of numpy, it will be understood as (type, (1,)) / '(1,)type'.\n",
      "  _np_qint8 = np.dtype([(\"qint8\", np.int8, 1)])\n",
      "/home/dcsoft/miniconda3/envs/clpy36/lib/python3.6/site-packages/tensorflow/python/framework/dtypes.py:517: FutureWarning: Passing (type, 1) or '1type' as a synonym of type is deprecated; in a future version of numpy, it will be understood as (type, (1,)) / '(1,)type'.\n",
      "  _np_quint8 = np.dtype([(\"quint8\", np.uint8, 1)])\n",
      "/home/dcsoft/miniconda3/envs/clpy36/lib/python3.6/site-packages/tensorflow/python/framework/dtypes.py:518: FutureWarning: Passing (type, 1) or '1type' as a synonym of type is deprecated; in a future version of numpy, it will be understood as (type, (1,)) / '(1,)type'.\n",
      "  _np_qint16 = np.dtype([(\"qint16\", np.int16, 1)])\n",
      "/home/dcsoft/miniconda3/envs/clpy36/lib/python3.6/site-packages/tensorflow/python/framework/dtypes.py:519: FutureWarning: Passing (type, 1) or '1type' as a synonym of type is deprecated; in a future version of numpy, it will be understood as (type, (1,)) / '(1,)type'.\n",
      "  _np_quint16 = np.dtype([(\"quint16\", np.uint16, 1)])\n",
      "/home/dcsoft/miniconda3/envs/clpy36/lib/python3.6/site-packages/tensorflow/python/framework/dtypes.py:520: FutureWarning: Passing (type, 1) or '1type' as a synonym of type is deprecated; in a future version of numpy, it will be understood as (type, (1,)) / '(1,)type'.\n",
      "  _np_qint32 = np.dtype([(\"qint32\", np.int32, 1)])\n",
      "/home/dcsoft/miniconda3/envs/clpy36/lib/python3.6/site-packages/tensorflow/python/framework/dtypes.py:525: FutureWarning: Passing (type, 1) or '1type' as a synonym of type is deprecated; in a future version of numpy, it will be understood as (type, (1,)) / '(1,)type'.\n",
      "  np_resource = np.dtype([(\"resource\", np.ubyte, 1)])\n",
      "/home/dcsoft/miniconda3/envs/clpy36/lib/python3.6/site-packages/tensorboard/compat/tensorflow_stub/dtypes.py:541: FutureWarning: Passing (type, 1) or '1type' as a synonym of type is deprecated; in a future version of numpy, it will be understood as (type, (1,)) / '(1,)type'.\n",
      "  _np_qint8 = np.dtype([(\"qint8\", np.int8, 1)])\n",
      "/home/dcsoft/miniconda3/envs/clpy36/lib/python3.6/site-packages/tensorboard/compat/tensorflow_stub/dtypes.py:542: FutureWarning: Passing (type, 1) or '1type' as a synonym of type is deprecated; in a future version of numpy, it will be understood as (type, (1,)) / '(1,)type'.\n",
      "  _np_quint8 = np.dtype([(\"quint8\", np.uint8, 1)])\n",
      "/home/dcsoft/miniconda3/envs/clpy36/lib/python3.6/site-packages/tensorboard/compat/tensorflow_stub/dtypes.py:543: FutureWarning: Passing (type, 1) or '1type' as a synonym of type is deprecated; in a future version of numpy, it will be understood as (type, (1,)) / '(1,)type'.\n",
      "  _np_qint16 = np.dtype([(\"qint16\", np.int16, 1)])\n",
      "/home/dcsoft/miniconda3/envs/clpy36/lib/python3.6/site-packages/tensorboard/compat/tensorflow_stub/dtypes.py:544: FutureWarning: Passing (type, 1) or '1type' as a synonym of type is deprecated; in a future version of numpy, it will be understood as (type, (1,)) / '(1,)type'.\n",
      "  _np_quint16 = np.dtype([(\"quint16\", np.uint16, 1)])\n",
      "/home/dcsoft/miniconda3/envs/clpy36/lib/python3.6/site-packages/tensorboard/compat/tensorflow_stub/dtypes.py:545: FutureWarning: Passing (type, 1) or '1type' as a synonym of type is deprecated; in a future version of numpy, it will be understood as (type, (1,)) / '(1,)type'.\n",
      "  _np_qint32 = np.dtype([(\"qint32\", np.int32, 1)])\n",
      "/home/dcsoft/miniconda3/envs/clpy36/lib/python3.6/site-packages/tensorboard/compat/tensorflow_stub/dtypes.py:550: FutureWarning: Passing (type, 1) or '1type' as a synonym of type is deprecated; in a future version of numpy, it will be understood as (type, (1,)) / '(1,)type'.\n",
      "  np_resource = np.dtype([(\"resource\", np.ubyte, 1)])\n"
     ]
    }
   ],
   "source": [
    "import tensorflow as tf\n",
    "import matplotlib.pyplot as plt\n",
    "import numpy as np\n",
    "import math"
   ]
  },
  {
   "cell_type": "code",
   "execution_count": 2,
   "metadata": {},
   "outputs": [],
   "source": [
    "#This is from https://github.com/aakhundov/tf-example-models\n",
    "import matplotlib.patches as pat\n",
    "DIMENSIONS = 2\n",
    "COMPONENTS = 3\n",
    "DATA_POINTS = 300\n",
    "EM_STEPS = 100\n"
   ]
  },
  {
   "cell_type": "code",
   "execution_count": 3,
   "metadata": {},
   "outputs": [],
   "source": [
    "def _generate_covariances(components, dimensions, diagonal=False, isotropic=False):\n",
    "    \"\"\"Generates a batch of random positive definite covariance matrices\"\"\"\n",
    "    covariances = np.zeros((components, dimensions, dimensions))\n",
    "\n",
    "    if isotropic:\n",
    "        for i in range(components):\n",
    "            covariances[i] = np.diag(np.full((dimensions,), np.abs(np.random.normal())))\n",
    "    elif diagonal:\n",
    "        for i in range(components):\n",
    "            covariances[i] = np.diag(np.abs(np.random.normal(size=[dimensions])))\n",
    "    else:\n",
    "        for i in range(components):\n",
    "            covariances[i] = np.random.normal(size=[dimensions, dimensions])\n",
    "            covariances[i] = np.dot(covariances[i], covariances[i].T)\n",
    "\n",
    "    return covariances\n",
    "\n",
    "\n",
    "def generate_gmm_data(size, components, dimensions, seed=None, diagonal=False, isotropic=False):\n",
    "    \"\"\"Generates synthetic data of a given size from a random Gaussian Mixture Model\"\"\"\n",
    "    np.random.seed(seed)\n",
    "\n",
    "    means = np.random.normal(size=[components, dimensions]) * 10\n",
    "    covariances = _generate_covariances(components, dimensions, diagonal, isotropic)\n",
    "    weights = np.ones(components)/components\n",
    "    #weights = np.abs(np.random.normal(size=[components]))\n",
    "    #weights /= np.sum(weights)\n",
    "\n",
    "    result = np.empty((size, dimensions), dtype=np.float32)\n",
    "    responsibilities = np.empty((size,), dtype=np.int32)\n",
    "\n",
    "    for i in range(size):\n",
    "        comp = np.random.choice(components, p=weights)\n",
    "\n",
    "        responsibilities[i] = comp\n",
    "        result[i] = np.random.multivariate_normal(\n",
    "            means[comp], covariances[comp]\n",
    "        )\n",
    "\n",
    "    np.random.seed()\n",
    "\n",
    "    return result, means, covariances, weights, responsibilities"
   ]
  },
  {
   "cell_type": "code",
   "execution_count": 4,
   "metadata": {},
   "outputs": [],
   "source": [
    "#This is from https://github.com/aakhundov/tf-example-models\n",
    "def _plot_gaussian(mean, covariance, color, zorder=0):\n",
    "    \"\"\"Plots the mean and 2-std ellipse of a given Gaussian\"\"\"\n",
    "    plt.plot(mean[0], mean[1], color[0] + \".\", zorder=zorder)\n",
    "\n",
    "    if covariance.ndim == 1:\n",
    "        covariance = np.diag(covariance)\n",
    "\n",
    "    radius = np.sqrt(5.991)\n",
    "    eigvals, eigvecs = np.linalg.eig(covariance)\n",
    "    axis = np.sqrt(eigvals) * radius\n",
    "    slope = eigvecs[1][0] / eigvecs[1][1]\n",
    "    angle = 180.0 * np.arctan(slope) / np.pi\n",
    "\n",
    "    plt.axes().add_artist(pat.Ellipse(\n",
    "        mean, 2 * axis[0], 2 * axis[1], angle=angle,\n",
    "        fill=False, color=color, linewidth=1, zorder=zorder\n",
    "    ))\n",
    "\n",
    "\n",
    "def plot_fitted_data(data, means, covariances, true_means=None, true_covariances=None):\n",
    "    \"\"\"Plots the data and given Gaussian components\"\"\"\n",
    "    plt.plot(data[:, 0], data[:, 1], \"b.\", markersize=0.5, zorder=0)\n",
    "\n",
    "    if true_means is not None:\n",
    "        for i in range(len(true_means)):\n",
    "            _plot_gaussian(true_means[i], true_covariances[i], \"green\", 1)\n",
    "\n",
    "    for i in range(len(means)):\n",
    "        _plot_gaussian(means[i], covariances[i], \"red\", 2)\n",
    "\n",
    "    plt.show()"
   ]
  },
  {
   "cell_type": "code",
   "execution_count": 5,
   "metadata": {},
   "outputs": [],
   "source": [
    "def initial_means(x):\n",
    "    # TODO resample at each step s.t. it won't try to effect the specific X values we choose as means\n",
    "    #rand_point_ids = tf.squeeze(tf.multinomial(tf.ones([1, tf.shape(x)[0]]), COMPONENTS))\n",
    "    #return tf.Variable(tf.gather(x, rand_point_ids), dtype=tf.float32, name='initial_means', trainable=False)\n",
    "    return tf.Variable(tf.gather(x, [0,1,2]), dtype=tf.float32, name='initial_means', trainable=False)\n",
    "\n",
    "def initial_covariances(x):\n",
    "    # computing input statistics\n",
    "    #dim_means = tf.reduce_mean(x, 0)\n",
    "    #dim_distances = tf.squared_difference(x, tf.expand_dims(dim_means, 0))\n",
    "    #dim_variances = tf.reduce_sum(dim_distances, 0) / tf.cast(tf.shape(x)[0], tf.float32)\n",
    "    #avg_variance = tf.cast(tf.reduce_sum(dim_variances) / DIMENSIONS**2, tf.float32)\n",
    "    #return tf.Variable(tf.cast(tf.ones([COMPONENTS, DIMENSIONS,DIMENSIONS]), tf.float32) * avg_variance, name='initial_variances', trainable=False)\n",
    "    return tf.Variable(tf.tile(tf.reshape(10*tf.eye(DIMENSIONS, dtype=tf.float32),(1,DIMENSIONS,DIMENSIONS)),[COMPONENTS,1,1]), name='initial_variances', trainable=False)\n",
    "\n",
    "def initial_alphas():\n",
    "    return tf.Variable(tf.cast(tf.fill([COMPONENTS], 1. / COMPONENTS), tf.float32), name='initial_alphas', trainable=False)"
   ]
  },
  {
   "cell_type": "markdown",
   "metadata": {},
   "source": [
    "#NP\n",
    "def initial_means(x):\n",
    "    # TODO resample at each step s.t. it won't try to effect the specific X values we choose as means\n",
    "    #rand_point_ids = tf.squeeze(tf.multinomial(tf.ones([1, tf.shape(x)[0]]), COMPONENTS))\n",
    "    #return tf.Variable(tf.gather(x, rand_point_ids), dtype=tf.float32, name='initial_means', trainable=False)\n",
    "    return x[[0,1,2],:]\n",
    "\n",
    "def initial_covariances(x):\n",
    "    # computing input statistics\n",
    "    #dim_means = tf.reduce_mean(x, 0)\n",
    "    #dim_distances = tf.squared_difference(x, tf.expand_dims(dim_means, 0))\n",
    "    #dim_variances = tf.reduce_sum(dim_distances, 0) / tf.cast(tf.shape(x)[0], tf.float32)\n",
    "    #avg_variance = tf.cast(tf.reduce_sum(dim_variances) / DIMENSIONS**2, tf.float32)\n",
    "    #return tf.Variable(tf.cast(tf.ones([COMPONENTS, DIMENSIONS,DIMENSIONS]), tf.float32) * avg_variance, name='initial_variances', trainable=False)\n",
    "    return np.tile(np.reshape(10*np.eye(DIMENSIONS, dtype=np.float32),(1,DIMENSIONS,DIMENSIONS)),[COMPONENTS,1,1])\n",
    "\n",
    "def initial_alphas():\n",
    "    return np.ones(COMPONENTS) * (1. / COMPONENTS)"
   ]
  },
  {
   "cell_type": "markdown",
   "metadata": {},
   "source": [
    "#NP\n",
    "def p_k(x, means, covariances):\n",
    "    import numpy as tf\n",
    "    tf.reduce_mean = tf.mean\n",
    "    tf.reduce_sum = tf.sum\n",
    "    x_minus_mu = tf.expand_dims(x,0)-tf.expand_dims(means,1)\n",
    "    inv_sigma = tf.linalg.inv(covariances)\n",
    "    exponent=-1/2*tf.einsum('cbi,cij,cbj->bc', x_minus_mu, inv_sigma, x_minus_mu)\n",
    "    unnormalized_pdf = tf.exp(exponent)\n",
    "    tmp = tf.linalg.det(covariances)\n",
    "    normalizing_constant = ((2*math.pi)**(DIMENSIONS/2)) * tf.sqrt(tmp)\n",
    "    return unnormalized_pdf/normalizing_constant\n",
    "\n",
    "def reweights(p_k, alphas):\n",
    "    import numpy as tf\n",
    "    tf.reduce_mean = tf.mean\n",
    "    tf.reduce_sum = tf.sum\n",
    "    nominator = p_k*alphas\n",
    "    return nominator/tf.linalg.norm(nominator, ord=1, axis=1, keepdims=True)\n",
    "\n",
    "def realphas(weights):\n",
    "    import numpy as tf\n",
    "    tf.reduce_mean = tf.mean\n",
    "    tf.reduce_sum = tf.sum\n",
    "    return tf.reduce_mean(weights,axis=0)\n",
    "def remeans(x, weights):\n",
    "    import numpy as tf\n",
    "    tf.reduce_mean = tf.mean\n",
    "    tf.reduce_sum = tf.sum\n",
    "    return tf.einsum('c,bc,bi->ci', (1/tf.reduce_sum(weights,axis=0)),weights,x)\n",
    "def recovariances(x,means,weights):\n",
    "    import numpy as tf\n",
    "    tf.reduce_mean = tf.mean\n",
    "    tf.reduce_sum = tf.sum\n",
    "    x_minus_mu = tf.expand_dims(x,0)-tf.expand_dims(initial_means(x),1)\n",
    "    w_mu = tf.einsum('bc,cbj->cbj', weights, x_minus_mu)\n",
    "    w_mu_muT = tf.einsum('cbj,cbi->cij', x_minus_mu, w_mu)\n",
    "    return tf.einsum('c,cij->cij', (1/tf.reduce_sum(weights,axis=0)),w_mu_muT)\n",
    "\n",
    "\n",
    "#sig_mu = tf.einsum('c,bc,cbi,cbj->cij', (1/tf.reduce_sum(weights,axis=0)),weights,x_minus_mu,x_minus_mu)"
   ]
  },
  {
   "cell_type": "markdown",
   "metadata": {},
   "source": [
    "init_mu, init_sig, init_alpha = initial_means(xx), initial_covariances(xx), initial_alphas()\n",
    "mu, sig, alpha = init_mu, init_sig, init_alpha\n",
    "for i in range(EM_STEPS):\n",
    "    w = Expectation(xx, mu, sig, alpha)\n",
    "    \n",
    "    alpha = realphas(w)\n",
    "    mu  = remeans(xx, w)\n",
    "    sig = recovariances(xx, mu, w)\n",
    "    \n",
    "    plot_fitted_data(\n",
    "    xx[:, :2], mu[:, :2], sig[:, :2, :2],\n",
    "    true_means[:, :2], true_variances[:, :2, :2]\n",
    "    )\n",
    "    print(mu)\n",
    "    print()\n"
   ]
  },
  {
   "cell_type": "code",
   "execution_count": 6,
   "metadata": {},
   "outputs": [],
   "source": [
    "def p_k(x, means, covariances):\n",
    "    x_minus_mu = tf.expand_dims(x,0)-tf.expand_dims(means,1)\n",
    "    inv_sigma = tf.linalg.inv(covariances)\n",
    "    exponent=-1/2*tf.einsum('cbi,cij,cbj->bc', x_minus_mu, inv_sigma, x_minus_mu)\n",
    "    unnormalized_pdf = tf.exp(exponent)\n",
    "    normalizing_constant = ((2*math.pi)**(DIMENSIONS/2)) * tf.sqrt(tf.linalg.det(covariances))\n",
    "    return unnormalized_pdf/normalizing_constant\n",
    "\n",
    "def reweights(p_k, alphas):\n",
    "    nominator = p_k*alphas\n",
    "    return nominator/tf.linalg.norm(nominator, ord=1, axis=1, keepdims=True)\n",
    "\n",
    "def realphas(weights):\n",
    "    return tf.reduce_mean(weights,axis=0)\n",
    "def remeans(x, weights):\n",
    "    return tf.einsum('c,bc,bi->ci', (1/tf.reduce_sum(weights,axis=0)),weights,x)\n",
    "def recovariances(x,means,weights):\n",
    "    x_minus_mu = tf.expand_dims(x,0)-tf.expand_dims(initial_means(x),1)\n",
    "    w_mu = tf.einsum('bc,cbj->cbj', weights, x_minus_mu)\n",
    "    w_mu_muT = tf.einsum('cbj,cbi->cij', x_minus_mu, w_mu)\n",
    "    return tf.einsum('c,cij->cij', (1/tf.reduce_sum(weights,axis=0)),w_mu_muT)\n",
    "\n",
    "\n",
    "#sig_mu = tf.einsum('c,bc,cbi,cbj->cij', (1/tf.reduce_sum(weights,axis=0)),weights,x_minus_mu,x_minus_mu)"
   ]
  },
  {
   "cell_type": "code",
   "execution_count": 7,
   "metadata": {},
   "outputs": [],
   "source": [
    "def Expectation(x, means, covariances, alphas):\n",
    "    return reweights(p_k(x,means,covariances), alphas)\n",
    "\n",
    "def Maximization(x, weights):\n",
    "    alphas = realphas(weights)\n",
    "    means  = remeans(x, weights)\n",
    "    covariances = recovariances(x, means, weights)\n",
    "    return (means, covariances, alphas)\n",
    "\n",
    "def one_step_EM(x, means, covariances, alphas):\n",
    "    w = Expectation(x, means, covariances, alphas)\n",
    "    new_means, new_covariances, new_alphas = Maximization(x, w)\n",
    "    return new_means, new_covariances, new_alphas, w"
   ]
  },
  {
   "cell_type": "code",
   "execution_count": 8,
   "metadata": {},
   "outputs": [],
   "source": [
    "xx, true_means, true_variances, true_weights, _ = generate_gmm_data(DATA_POINTS, COMPONENTS, DIMENSIONS, 16)\n",
    "\n",
    "init_mu, init_sig, init_alpha = initial_means(xx), initial_covariances(xx), initial_alphas()\n",
    "mu, sig, alpha = init_mu, init_sig, init_alpha"
   ]
  },
  {
   "cell_type": "code",
   "execution_count": 9,
   "metadata": {},
   "outputs": [],
   "source": [
    "x_ph = tf.placeholder(tf.float32, [None, DIMENSIONS], name='inputTENSOR')\n",
    "\n",
    "for i in range(EM_STEPS):\n",
    "    mu, sig, alpha, _ = one_step_EM(x_ph, mu, sig, alpha)\n",
    "    "
   ]
  },
  {
   "cell_type": "code",
   "execution_count": 10,
   "metadata": {},
   "outputs": [],
   "source": [
    "sess = tf.Session()"
   ]
  },
  {
   "cell_type": "code",
   "execution_count": 11,
   "metadata": {},
   "outputs": [
    {
     "name": "stderr",
     "output_type": "stream",
     "text": [
      "/home/dcsoft/miniconda3/envs/clpy36/lib/python3.6/site-packages/ipykernel_launcher.py:15: MatplotlibDeprecationWarning: Adding an axes using the same arguments as a previous axes currently reuses the earlier instance.  In a future version, a new instance will always be created and returned.  Meanwhile, this warning can be suppressed, and the future behavior ensured, by passing a unique label to each axes instance.\n",
      "  from ipykernel import kernelapp as app\n"
     ]
    },
    {
     "data": {
      "image/png": "[encoded data removed]",
      "text/plain": [
       "<Figure size 432x288 with 1 Axes>"
      ]
     },
     "metadata": {
      "needs_background": "light"
     },
     "output_type": "display_data"
    }
   ],
   "source": [
    "sess.run(tf.global_variables_initializer(), feed_dict={x_ph: xx})\n",
    "final_means,final_covariances = sess.run([mu, sig], feed_dict={x_ph: xx})\n",
    "    \n",
    "plot_fitted_data(\n",
    "    xx[:, :2], final_means[:, :2], final_covariances[:, :2, :2],\n",
    "    true_means[:, :2], true_variances[:, :2, :2]\n",
    ")"
   ]
  }
 ],
 "metadata": {
  "kernelspec": {
   "display_name": "Python 3",
   "language": "python",
   "name": "python3"
  },
  "language_info": {
   "codemirror_mode": {
    "name": "ipython",
    "version": 3
   },
   "file_extension": ".py",
   "mimetype": "text/x-python",
   "name": "python",
   "nbconvert_exporter": "python",
   "pygments_lexer": "ipython3",
   "version": "3.6.7"
  }
 },
 "nbformat": 4,
 "nbformat_minor": 2
}
